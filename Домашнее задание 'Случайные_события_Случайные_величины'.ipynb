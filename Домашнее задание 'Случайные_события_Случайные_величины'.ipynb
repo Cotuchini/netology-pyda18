{
  "nbformat": 4,
  "nbformat_minor": 0,
  "metadata": {
    "colab": {
      "name": "Случайные события. Случайные величины.ipynb",
      "provenance": []
    },
    "kernelspec": {
      "name": "python3",
      "display_name": "Python 3"
    },
    "language_info": {
      "name": "python"
    }
  },
  "cells": [
    {
      "cell_type": "markdown",
      "metadata": {
        "id": "Ni3ekuHioHvy"
      },
      "source": [
        "Добрый день!\n",
        "При увеличении числа испытаний в модели средний выигрыш игрока стремится к 0,8 рублям (т.е. в среднем 0,2 рубля игрок проигрывает каждый раз), делаем вывод, что методично играть в игровые автоматы невыгодно."
      ]
    },
    {
      "cell_type": "code",
      "metadata": {
        "id": "VSNF21p9nPsx"
      },
      "source": [
        "import pandas as pd\n",
        "import numpy as np"
      ],
      "execution_count": 1,
      "outputs": []
    },
    {
      "cell_type": "code",
      "metadata": {
        "colab": {
          "base_uri": "https://localhost:8080/"
        },
        "id": "lxfJnzpNn3Fq",
        "outputId": "3d81ed52-7d2c-4197-d793-1deb36d5378c"
      },
      "source": [
        "trials = 1000000 # количество попыток \n",
        "payoff = 0 # начальное значение выигрыша\n",
        "\n",
        "for i in range(trials):\n",
        "    random_point = np.random.randint(0, 1000) \n",
        "    \n",
        "    if random_point == 777:\n",
        "      payoff += 200\n",
        "    elif random_point == 999:\n",
        "      payoff += 100\n",
        "    elif random_point == 555:\n",
        "      payoff += 50\n",
        "    elif random_point == 333:\n",
        "      payoff += 15\n",
        "    elif random_point == 111:\n",
        "      payoff += 10\n",
        "    elif random_point % 100 == 77:\n",
        "      payoff += 5\n",
        "    elif random_point % 10 == 7:\n",
        "      payoff += 3\n",
        "    elif random_point % 100 == 0:\n",
        "      payoff += 2\n",
        "    elif random_point % 10 == 0:\n",
        "      payoff += 1\n",
        "\n",
        "print('размер среднего выигрыша:', payoff / trials)"
      ],
      "execution_count": 16,
      "outputs": [
        {
          "output_type": "stream",
          "text": [
            "размер среднего выигрыша: 0.79786\n"
          ],
          "name": "stdout"
        }
      ]
    }
  ]
}