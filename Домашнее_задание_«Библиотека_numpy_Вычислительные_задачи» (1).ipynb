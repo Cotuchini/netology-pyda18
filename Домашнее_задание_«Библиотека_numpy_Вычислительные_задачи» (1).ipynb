{
  "nbformat": 4,
  "nbformat_minor": 0,
  "metadata": {
    "colab": {
      "name": "Домашнее задание «Библиотека numpy. Вычислительные задачи».ipynb",
      "provenance": []
    },
    "kernelspec": {
      "name": "python3",
      "display_name": "Python 3"
    }
  },
  "cells": [
    {
      "cell_type": "markdown",
      "metadata": {
        "id": "QBQRk2bLbqKp"
      },
      "source": [
        "**Задание 1**\r\n",
        "Создайте numpy array с элементами от числа N до 0 (например, для N = 10 это будет array([9, 8, 7, 6, 5, 4, 3, 2, 1, 0])). \r\n",
        "\r\n"
      ]
    },
    {
      "cell_type": "markdown",
      "metadata": {
        "id": "r7Hrum1TcgrH"
      },
      "source": [
        "Решение 1:"
      ]
    },
    {
      "cell_type": "code",
      "metadata": {
        "colab": {
          "base_uri": "https://localhost:8080/"
        },
        "id": "aN42Abu6-1TR",
        "outputId": "34048ede-3165-4fea-cc9c-e627e3945a84"
      },
      "source": [
        "import numpy as np\r\n",
        "\r\n",
        "d = int(input('Введите d: '))\r\n",
        "arr = np.arange(0, d)\r\n",
        "reversed_arr = arr[::-1]\r\n",
        "reversed_arr"
      ],
      "execution_count": 1,
      "outputs": [
        {
          "output_type": "stream",
          "text": [
            "Введите d: 5\n"
          ],
          "name": "stdout"
        },
        {
          "output_type": "execute_result",
          "data": {
            "text/plain": [
              "array([4, 3, 2, 1, 0])"
            ]
          },
          "metadata": {
            "tags": []
          },
          "execution_count": 1
        }
      ]
    },
    {
      "cell_type": "markdown",
      "metadata": {
        "id": "VCVYCvm4ckap"
      },
      "source": [
        "Решение 2:"
      ]
    },
    {
      "cell_type": "code",
      "metadata": {
        "colab": {
          "base_uri": "https://localhost:8080/"
        },
        "id": "R7mqxyD0cVbY",
        "outputId": "a6ee4fa0-15f0-4a73-96b5-cdbea38f8c44"
      },
      "source": [
        "d = int(input('Введите d: '))\r\n",
        "res = [x for x in range(0, d, 1)]\r\n",
        "res.reverse()\r\n",
        "np.array(res)\r\n"
      ],
      "execution_count": 2,
      "outputs": [
        {
          "output_type": "stream",
          "text": [
            "Введите d: 5\n"
          ],
          "name": "stdout"
        },
        {
          "output_type": "execute_result",
          "data": {
            "text/plain": [
              "array([4, 3, 2, 1, 0])"
            ]
          },
          "metadata": {
            "tags": []
          },
          "execution_count": 2
        }
      ]
    },
    {
      "cell_type": "markdown",
      "metadata": {
        "id": "oi4l9U86_L-c"
      },
      "source": [
        "**Задание 2**\r\n",
        "Создайте диагональную матрицу с элементами от N до 0. Посчитайте сумму ее значений на диагонали.\r\n"
      ]
    },
    {
      "cell_type": "code",
      "metadata": {
        "colab": {
          "base_uri": "https://localhost:8080/"
        },
        "id": "_6dQTIyi_TAr",
        "outputId": "4d9f1c76-43f3-4fdd-e455-8bd6636a8892"
      },
      "source": [
        "def matr(s):\r\n",
        "  arr = np.arange(0, s)  #Не совсем понял условие задачи, поэтому в случае если предполагается, что N должно входить в значения главной диагонали, то arr = np.arange(0, s+1)\r\n",
        "  reversed_arr = arr[::-1]\r\n",
        "  v = np.diag(reversed_arr)\r\n",
        "  print(np.diag(reversed_arr), ',\\nсумма значений главной диагонали: ', np.trace(v))\r\n",
        "\r\n",
        "matr(int(input('\\nВведите количество элементов матрицы: ')))"
      ],
      "execution_count": 3,
      "outputs": [
        {
          "output_type": "stream",
          "text": [
            "\n",
            "Введите количество элементов матрицы: 5\n",
            "[[4 0 0 0 0]\n",
            " [0 3 0 0 0]\n",
            " [0 0 2 0 0]\n",
            " [0 0 0 1 0]\n",
            " [0 0 0 0 0]] ,\n",
            "сумма значений главной диагонали:  10\n"
          ],
          "name": "stdout"
        }
      ]
    },
    {
      "cell_type": "markdown",
      "metadata": {
        "id": "yhfuudYpd0Fo"
      },
      "source": [
        "**Задание 3**\r\n",
        "Решите систему уравнений:\r\n",
        "4x + 2y + z = 4;\r\n",
        "x + 3y = 102;\r\n",
        "5y + 4z = -3."
      ]
    },
    {
      "cell_type": "code",
      "metadata": {
        "colab": {
          "base_uri": "https://localhost:8080/"
        },
        "id": "w3IFPwu2b762",
        "outputId": "7a85086e-37bd-40c6-b5bd-c035d0952426"
      },
      "source": [
        "a = np.array([[4, 2, 1], [1, 3, 0], [0, 5, 4]])\r\n",
        "b = np.array([4, 12, -3])\r\n",
        "from numpy import linalg\r\n",
        "linalg.solve(a, b)"
      ],
      "execution_count": 4,
      "outputs": [
        {
          "output_type": "execute_result",
          "data": {
            "text/plain": [
              "array([ 0.46666667,  3.84444444, -5.55555556])"
            ]
          },
          "metadata": {
            "tags": []
          },
          "execution_count": 4
        }
      ]
    },
    {
      "cell_type": "markdown",
      "metadata": {
        "id": "7fa20VR2cs9-"
      },
      "source": [
        "Проверка\r\n"
      ]
    },
    {
      "cell_type": "code",
      "metadata": {
        "colab": {
          "base_uri": "https://localhost:8080/"
        },
        "id": "mdSb0zHbc1du",
        "outputId": "e781969c-e94c-4e27-973d-04cb1e9eb744"
      },
      "source": [
        "np.allclose(np.dot(a, linalg.solve(a, b)), b)"
      ],
      "execution_count": 5,
      "outputs": [
        {
          "output_type": "execute_result",
          "data": {
            "text/plain": [
              "True"
            ]
          },
          "metadata": {
            "tags": []
          },
          "execution_count": 5
        }
      ]
    },
    {
      "cell_type": "markdown",
      "metadata": {
        "id": "QIoq21ynd4xn"
      },
      "source": [
        "**Задание 4**\r\n",
        "Имеется матрица покупок в интернет-магазине. Столбец А - ID пользователя. Остальные столбцы - количество покупок категорий товаров этим пользователем.\r\n",
        "На сайт заходит очередной посетитель, о покупках которого известно следующее:\r\n",
        "next_user_stats = np.array([0, 1, 2, 0, 0, 0])\r\n",
        "Найдите самого похожего пользователя. Т. е. посчитайте косинусное сходство между этим пользователем и всеми пользователями из массива user_stats.\r\n"
      ]
    },
    {
      "cell_type": "code",
      "metadata": {
        "colab": {
          "base_uri": "https://localhost:8080/"
        },
        "id": "2MhTwruAeSsw",
        "outputId": "2588f3c2-2cae-4c18-d232-7e05cbceba32"
      },
      "source": [
        "users_stats = np.array(\r\n",
        "    [\r\n",
        "        [2, 1, 0, 0, 0, 0],\r\n",
        "        [1, 1, 2, 1, 0, 0],\r\n",
        "        [2, 0, 1, 0, 0, 0],\r\n",
        "        [1, 1, 2, 1, 0, 1],\r\n",
        "        [0, 0, 1, 2, 0, 0],\r\n",
        "        [0, 0, 0, 0, 0, 5],\r\n",
        "        [1, 0, 0, 0, 0, 0],\r\n",
        "        [0, 1, 1, 0, 0, 0],\r\n",
        "        [0, 0, 0, 1, 1, 3],\r\n",
        "        [1, 0, 0, 2, 1, 4]\r\n",
        "    ], \r\n",
        "  )\r\n",
        "\r\n",
        "next_user_stats = np.array([0, 1, 2, 0, 0, 0])\r\n",
        "\r\n",
        "def cosine(a, b):\r\n",
        "    length_a = np.linalg.norm(a)\r\n",
        "    length_b = np.linalg.norm(b)\r\n",
        "    return np.dot(a, b) / (length_a * length_b)\r\n",
        "\r\n",
        "proximity = []\r\n",
        "for lines in users_stats:\r\n",
        "  proximity.append(cosine(lines, next_user_stats))\r\n",
        "nearest = max(proximity)\r\n",
        "#print(nearest)\r\n",
        "#print(proximity.index(nearest))\r\n",
        "print('В результате сравнения с покупками нового пользователя:\\n', proximity, '\\ncамым похожим пользователем является пользователь с ID: ', (proximity.index(nearest)+1), '\\nс соответствующими покупками', users_stats[proximity.index(nearest)])"
      ],
      "execution_count": 7,
      "outputs": [
        {
          "output_type": "stream",
          "text": [
            "В результате сравнения с покупками нового пользователя:\n",
            " [0.19999999999999996, 0.8451542547285165, 0.3999999999999999, 0.7905694150420948, 0.3999999999999999, 0.0, 0.0, 0.9486832980505138, 0.0, 0.0] \n",
            "cамым похожим пользователем является пользователь с ID:  8 \n",
            "с соответствующими покупками [0 1 1 0 0 0]\n"
          ],
          "name": "stdout"
        }
      ]
    },
    {
      "cell_type": "markdown",
      "metadata": {
        "id": "rFD_MLSRb4su"
      },
      "source": [
        ""
      ]
    },
    {
      "cell_type": "code",
      "metadata": {
        "id": "tKBNzwW8b34G"
      },
      "source": [
        ""
      ],
      "execution_count": 6,
      "outputs": []
    },
    {
      "cell_type": "markdown",
      "metadata": {
        "id": "VF4Yxk7ldHPY"
      },
      "source": [
        ""
      ]
    }
  ]
}