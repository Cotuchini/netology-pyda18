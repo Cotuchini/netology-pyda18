{
  "nbformat": 4,
  "nbformat_minor": 0,
  "metadata": {
    "colab": {
      "name": "Домашнее задание к лекции «Управляющие конструкции и коллекции» часть 2.ipynb",
      "provenance": []
    },
    "kernelspec": {
      "name": "python3",
      "display_name": "Python 3"
    }
  },
  "cells": [
    {
      "cell_type": "markdown",
      "metadata": {
        "id": "di-kTfj9Ow40"
      },
      "source": [
        "**Задание 1**\r\n",
        "Дана переменная, в которой хранится словарь, содержащий гео-метки для каждого пользователя (пример структуры данных приведен ниже). Вам необходимо написать программу, которая выведет на экран множество уникальных гео-меток всех пользователей."
      ]
    },
    {
      "cell_type": "code",
      "metadata": {
        "colab": {
          "base_uri": "https://localhost:8080/"
        },
        "id": "-31QxnxB0pvI",
        "outputId": "cd1ca99c-6ceb-47b6-9328-193cd20a3fee"
      },
      "source": [
        "ids = {'user1': [213, 213, 213, 15, 213],\r\n",
        "'user2': [54, 54, 119, 119, 119],\r\n",
        "'user3': [213, 98, 98, 35]}\r\n",
        "A=list(ids.values())    \r\n",
        "B=sum(A, [])            \r\n",
        "my_set=set(B)           \r\n",
        "print(my_set)"
      ],
      "execution_count": 1,
      "outputs": [
        {
          "output_type": "stream",
          "text": [
            "{98, 35, 15, 213, 54, 119}\n"
          ],
          "name": "stdout"
        }
      ]
    },
    {
      "cell_type": "markdown",
      "metadata": {
        "id": "QGDfcfs2PJk7"
      },
      "source": [
        "**Задание 2**\r\n",
        "Дана переменная, в которой хранится список поисковых запросов пользователя (пример структуры данных приведен ниже). Вам необходимо написать программу, которая выведет на экран распределение количества слов в запросах в требуемом виде."
      ]
    },
    {
      "cell_type": "code",
      "metadata": {
        "colab": {
          "base_uri": "https://localhost:8080/"
        },
        "id": "RvEORsHC_mSG",
        "outputId": "7b0bde39-9d0e-4e60-c794-bc269079e381"
      },
      "source": [
        "queries = [\r\n",
        "'смотреть сериалы онлайн',\r\n",
        "'новости спорта',\r\n",
        "'афиша кино',\r\n",
        "'курс доллара',\r\n",
        "'сериалы этим летом',\r\n",
        "'курс по питону',\r\n",
        "'сериалы про спорт'\r\n",
        "]\r\n",
        "pack=[]\r\n",
        "res={}\r\n",
        "for i in range(len(queries)):\r\n",
        " queries[i].split(' ')\r\n",
        " pack.append(len(queries[i].split(' ')))\r\n",
        " \r\n",
        "for num in pack:\r\n",
        "  if num not in res:\r\n",
        "   res[num] = 1\r\n",
        "  else:\r\n",
        "   res[num] += 1  \r\n",
        "\r\n",
        "for w, count in res.items():\r\n",
        "  percentage = round((count / len(queries)) * 100, 2)\r\n",
        "  print(f'Поисковых запросов, содержащих {w} слов(а): {percentage} %')\r\n"
      ],
      "execution_count": 4,
      "outputs": [
        {
          "output_type": "stream",
          "text": [
            "Поисковых запросов, содержащих 3 слов(а): 57.14 %\n",
            "Поисковых запросов, содержащих 2 слов(а): 42.86 %\n"
          ],
          "name": "stdout"
        }
      ]
    },
    {
      "cell_type": "markdown",
      "metadata": {
        "id": "dWi7h0po263f"
      },
      "source": [
        "**Задание 3** Дана переменная, в которой хранится информация о затратах и доходе рекламных кампаний по различным источникам. Необходимо дополнить исходную структуру показателем ROI, который рассчитаем по формуле: (revenue / cost - 1) * 100"
      ]
    },
    {
      "cell_type": "code",
      "metadata": {
        "colab": {
          "base_uri": "https://localhost:8080/"
        },
        "id": "6wfhCqAi3GP9",
        "outputId": "11ae0245-81ab-4ccc-e672-301bf5beb1c9"
      },
      "source": [
        "results = {\r\n",
        "'vk': {'revenue': 103, 'cost': 98},\r\n",
        "'yandex': {'revenue': 179, 'cost': 153},\r\n",
        "'facebook': {'revenue': 103, 'cost': 110},\r\n",
        "'adwords': {'revenue': 35, 'cost': 34},\r\n",
        "'twitter': {'revenue': 11, 'cost': 24},\r\n",
        "}\r\n",
        "\r\n",
        "for k, val in results.items():\r\n",
        "    val['ROI'] = round(((val['revenue'] / val['cost']) - 1)*100 , 2)\r\n",
        "    print(k, val)"
      ],
      "execution_count": 6,
      "outputs": [
        {
          "output_type": "stream",
          "text": [
            "vk {'revenue': 103, 'cost': 98, 'ROI': 5.1}\n",
            "yandex {'revenue': 179, 'cost': 153, 'ROI': 16.99}\n",
            "facebook {'revenue': 103, 'cost': 110, 'ROI': -6.36}\n",
            "adwords {'revenue': 35, 'cost': 34, 'ROI': 2.94}\n",
            "twitter {'revenue': 11, 'cost': 24, 'ROI': -54.17}\n"
          ],
          "name": "stdout"
        }
      ]
    },
    {
      "cell_type": "markdown",
      "metadata": {
        "id": "3R_dXnfiHSb1"
      },
      "source": [
        "**Задание 4** Дана переменная, в которой хранится статистика рекламных каналов по объемам продаж (пример структуры данных приведен ниже). Напишите программу, которая возвращает название канала с максимальным объемом продаж."
      ]
    },
    {
      "cell_type": "code",
      "metadata": {
        "colab": {
          "base_uri": "https://localhost:8080/"
        },
        "id": "BrPLWFdMHRAV",
        "outputId": "04833fc5-75b8-4027-e536-8c6389adb0df"
      },
      "source": [
        "stats = {'facebook': 55, 'yandex': 115, 'vk': 120, 'google': 99, 'email': 42, 'ok': 98}\r\n",
        "\r\n",
        "for k, val in stats.items():\r\n",
        "  if val==max(stats.values()):\r\n",
        "   print('Максимальный объем продаж на рекламном канале:', k)"
      ],
      "execution_count": 8,
      "outputs": [
        {
          "output_type": "stream",
          "text": [
            "Максимальный объем продаж на рекламном канале: vk\n"
          ],
          "name": "stdout"
        }
      ]
    }
  ]
}