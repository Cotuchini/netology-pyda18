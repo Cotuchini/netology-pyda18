{
 "cells": [
  {
   "cell_type": "code",
   "execution_count": null,
   "metadata": {
    "colab": {
     "base_uri": "https://localhost:8080/"
    },
    "id": "tlwGs1yCqo8D",
    "outputId": "12661d8c-cec0-4d92-ef1d-85eba0f74bf7"
   },
   "outputs": [],
   "source": [
    "phrase_1 = 'На мировом рынке максимум можно будет продать штук пять компьютеров'\n",
    "phrase_2 = 'Нет причин, по которым люди захотели бы иметь персональный компьютер у себя дома'\n",
    "if len(phrase_1) > len(phrase_2):\n",
    "   print('Фраза 1 длиннее фразы 2')\n",
    "elif len(phrase_2) > len(phrase_1):\n",
    "    print('Фраза 2 длиннее фразы 1')  \n",
    "else:  \n",
    "   print('Фраза 1 равна фразе 2')\n"
   ]
  },
  {
   "cell_type": "code",
   "execution_count": null,
   "metadata": {
    "colab": {
     "base_uri": "https://localhost:8080/"
    },
    "id": "ZpYZdunZx2Hj",
    "outputId": "3625e6fc-bbed-4f90-f91e-d3bb589dfa1f"
   },
   "outputs": [],
   "source": [
    "year = 2000\n",
    "if (year % 4 == 0) and (year % 100 != 0) or (year % 400 == 0):\n",
    "    print('Високосный год')\n",
    "else:\n",
    "    print('Обычный год')"
   ]
  },
  {
   "cell_type": "code",
   "execution_count": null,
   "metadata": {
    "colab": {
     "base_uri": "https://localhost:8080/"
    },
    "id": "iHQF0E2syjHA",
    "outputId": "c9c4c81f-220f-4b4a-ac77-ff1bd1f6eb62"
   },
   "outputs": [],
   "source": [
    "width = 10\n",
    "lenght = 205\n",
    "height = 5\n",
    "if lenght > 200:\n",
    "  print('Упаковка для лыж')\n",
    "elif width < 15 and lenght < 15 and height < 15:\n",
    "  print('Коробка №1')\n",
    "elif 15 < width < 50 or 15 < lenght < 50 or 15 < height < 50:\n",
    "  print('Коробка №2')\n",
    "else: \n",
    "  print('Стандартная коробка №3')"
   ]
  },
  {
   "cell_type": "code",
   "execution_count": null,
   "metadata": {
    "colab": {
     "base_uri": "https://localhost:8080/"
    },
    "id": "QMJg807uxTsP",
    "outputId": "cd1a5f7d-dfd0-4949-a65f-0e79402d1d41"
   },
   "outputs": [],
   "source": [
    "month = input('Введите месяц рождения: ')\n",
    "day = input('Введите дату рождения: ')\n",
    "day = int(day)\n",
    "if day > 31:\n",
    "  print('Неверная дата')\n",
    "\n",
    "elif month == 'январь' and day>=20 or month == 'февраль' and day<=19:\n",
    "    print('Ваш знак зодиака: Водолей')\n",
    "\n",
    "elif month == 'февраль' and day>=20 and day !=30 and day !=31 or month == 'март' and day<=21 :\n",
    "    print('Ваш знак зодиака: Рыбы')\n",
    "\n",
    "elif month == 'март' and day>=21 or month == 'апрель' and day<=20:\n",
    "    print('Ваш знак зодиака: Овен')\n",
    "\n",
    "elif month == 'апрель' and day>=21 or month == 'май' and day<=20:\n",
    "    print('Ваш знак зодиака: Телец')\n",
    "\n",
    "elif month == 'май' and day>=21 or month == 'июнь' and day<=20:\n",
    "    print('Ваш знак зодиака: Близнецы')\n",
    "\n",
    "elif month == 'июнь' and day>=21 or month == 'июль' and day<=22:\n",
    "    print('Ваш знак зодиака: Рак')\n",
    "\n",
    "elif month == 'июль' and day>=23 or month == 'август' and day<=22:\n",
    "    print('Ваш знак зодиака: Лев')    \n",
    "\n",
    "elif month == 'август' and day>=23 or month == 'сентябрь' and day<=23:\n",
    "    print('Ваш знак зодиака: Дева')    \n",
    "\n",
    "elif month == 'сентябрь' and day>=24 or month == 'октябрь' and day<=23:\n",
    "    print('Ваш знак зодиака: Весы')  \n",
    "\n",
    "elif month == 'октябрь' and day>=24 or month == 'ноябрь' and day<=21:\n",
    "    print('Скорпион')      \n",
    "\n",
    "elif month == 'ноябрь' and day>=22 or month == 'декабрь' and day<=21:\n",
    "    print('Стрелец')   \n",
    "\n",
    "elif month == 'декабрь' and day>=22 or month == 'январь' and day<=19:\n",
    "    print('Козерог')   \n",
    "\n",
    "else: \n",
    "    print('Неверная дата')\n"
   ]
  },
  {
   "cell_type": "code",
   "execution_count": null,
   "metadata": {},
   "outputs": [],
   "source": []
  }
 ],
 "metadata": {
  "colab": {
   "name": "Домашнее задание по теме «Основы Python».ipynb",
   "provenance": []
  },
  "kernelspec": {
   "display_name": "Python 3",
   "language": "python",
   "name": "python3"
  },
  "language_info": {
   "codemirror_mode": {
    "name": "ipython",
    "version": 3
   },
   "file_extension": ".py",
   "mimetype": "text/x-python",
   "name": "python",
   "nbconvert_exporter": "python",
   "pygments_lexer": "ipython3",
   "version": "3.8.5"
  }
 },
 "nbformat": 4,
 "nbformat_minor": 1
}
