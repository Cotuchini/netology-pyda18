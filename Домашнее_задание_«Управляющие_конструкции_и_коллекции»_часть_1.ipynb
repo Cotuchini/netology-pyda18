{
  "nbformat": 4,
  "nbformat_minor": 0,
  "metadata": {
    "colab": {
      "name": "Домашнее задание «Управляющие конструкции и коллекции» часть 1.ipynb",
      "provenance": [],
      "collapsed_sections": []
    },
    "kernelspec": {
      "name": "python3",
      "display_name": "Python 3"
    }
  },
  "cells": [
    {
      "cell_type": "markdown",
      "metadata": {
        "id": "KteIp140J30C"
      },
      "source": [
        "**Задание 1**\r\n",
        "Дана переменная, в которой хранится слово из латинских букв. Напишите код, который выводит на экран:\r\n",
        "\r\n",
        "среднюю букву, если число букв в слове нечетное;\r\n",
        "две средних буквы, если число букв четное."
      ]
    },
    {
      "cell_type": "code",
      "metadata": {
        "colab": {
          "base_uri": "https://localhost:8080/"
        },
        "id": "g9pZ1DfKadYh",
        "outputId": "4e334256-53a1-4191-cb2d-b30752d742f9"
      },
      "source": [
        "word = 'testing'\r\n",
        "d = len(word)\r\n",
        "if d % 2 == 0:\r\n",
        " print(word[int(d/2-1):int(d/2-1)+2])\r\n",
        "else:\r\n",
        "  print(word[int((d-1)/2)])\r\n",
        "\r\n",
        "\r\n"
      ],
      "execution_count": 2,
      "outputs": [
        {
          "output_type": "stream",
          "text": [
            "t\n"
          ],
          "name": "stdout"
        }
      ]
    },
    {
      "cell_type": "markdown",
      "metadata": {
        "id": "DUQ8N1GAKAGr"
      },
      "source": [
        "**Задание 2**\r\n",
        "Напишите программу, которая последовательно запрашивает у пользователя числа (по одному за раз) и после первого нуля выводит сумму всех ранее введенных чисел."
      ]
    },
    {
      "cell_type": "code",
      "metadata": {
        "id": "h4SgOBCxl3eM",
        "colab": {
          "base_uri": "https://localhost:8080/"
        },
        "outputId": "4b2fb2f6-497c-4b83-cc63-e7c6b63a8cb4"
      },
      "source": [
        "m = 0;\r\n",
        "x = int(input('Введите число: ' ))\r\n",
        "m = m + x;\r\n",
        "while x != 0:\r\n",
        "  x = int(input('Введите число: '))\r\n",
        "  m = m + x;\r\n",
        "print('Результат:', m)\r\n"
      ],
      "execution_count": 3,
      "outputs": [
        {
          "output_type": "stream",
          "text": [
            "Введите число: 1\n",
            "Введите число: 1\n",
            "Введите число: 0\n",
            "Результат: 2\n"
          ],
          "name": "stdout"
        }
      ]
    },
    {
      "cell_type": "markdown",
      "metadata": {
        "id": "v3JOESatKEpr"
      },
      "source": [
        "**Задание 3**\r\n",
        "Мы делаем MVP dating-сервиса, и у нас есть список парней и девушек.\r\n",
        "Выдвигаем гипотезу: лучшие рекомендации мы получим, если просто отсортируем имена по алфавиту и познакомим людей с одинаковыми индексами после сортировки! Но мы не будем никого знакомить, если кто-то может остаться без пары\r\n"
      ]
    },
    {
      "cell_type": "code",
      "metadata": {
        "id": "QmyqMkgRmzAF",
        "colab": {
          "base_uri": "https://localhost:8080/"
        },
        "outputId": "288448c0-cdd8-4f01-e098-5042caffc843"
      },
      "source": [
        "boys = ['Peter', 'Alex', 'John', 'Arthur', 'Richard']\r\n",
        "girls = ['Kate', 'Liza', 'Kira', 'Emma', 'Trisha']\r\n",
        "sorted_boys=sorted(boys)\r\n",
        "sorted_girls=sorted(girls)\r\n",
        "x=0\r\n",
        "if len(boys) == len(girls):\r\n",
        " print('Идеальные пары:')\r\n",
        " while x<len(boys):\r\n",
        "  print(sorted_boys[x]+' и '+ sorted_girls[x])\r\n",
        "  x+=1\r\n",
        "else:\r\n",
        "  print('Внимание, кто-то может остаться без пары!')"
      ],
      "execution_count": 4,
      "outputs": [
        {
          "output_type": "stream",
          "text": [
            "Идеальные пары:\n",
            "Alex и Emma\n",
            "Arthur и Kate\n",
            "John и Kira\n",
            "Peter и Liza\n",
            "Richard и Trisha\n"
          ],
          "name": "stdout"
        }
      ]
    },
    {
      "cell_type": "markdown",
      "metadata": {
        "id": "wqcDiIc1drc_"
      },
      "source": [
        "**Задание 4**\r\n",
        "У нас есть список, содержащий информацию о среднедневной температуре в Фаренгейтах за произвольный период по странам (структура данных в примере). Необходимо написать код, который рассчитает среднюю температуру за период в Цельсиях(!) для каждой страны.\r\n"
      ]
    },
    {
      "cell_type": "code",
      "metadata": {
        "colab": {
          "base_uri": "https://localhost:8080/"
        },
        "id": "FuJTDmA7dqTh",
        "outputId": "2592f1d2-0477-465f-f2b7-a822ed7c98fa"
      },
      "source": [
        "countries_temperature = [\r\n",
        "    ['Thailand', [75.2, 77, 78.8, 73.4, 68, 75.2, 77]],\r\n",
        "    ['Germany', [57.2, 55.4, 59, 59, 53.6]],\r\n",
        "    ['Russia', [35.6, 37.4, 39.2, 41, 42.8, 39.2, 35.6]],\r\n",
        "    ['Poland', [50, 50, 53.6, 57.2, 55.4, 55.4]]\r\n",
        "]\r\n",
        "\r\n",
        "for i in countries_temperature:\r\n",
        "    print(i[0], '-', round((sum(i[1]) / len(i[1]) - 32) / 1.8, 1), 'C')\r\n",
        " \r\n"
      ],
      "execution_count": 2,
      "outputs": [
        {
          "output_type": "stream",
          "text": [
            "Thailand - 23.9 C\n",
            "Germany - 13.8 C\n",
            "Russia - 3.7 C\n",
            "Poland - 12.0 C\n"
          ],
          "name": "stdout"
        }
      ]
    }
  ]
}