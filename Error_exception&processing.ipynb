{
  "nbformat": 4,
  "nbformat_minor": 0,
  "metadata": {
    "colab": {
      "name": "Error exception&processing.ipynb",
      "provenance": []
    },
    "kernelspec": {
      "name": "python3",
      "display_name": "Python 3"
    },
    "language_info": {
      "name": "python"
    }
  },
  "cells": [
    {
      "cell_type": "code",
      "metadata": {
        "id": "9PFUnZXRJAbq"
      },
      "source": [
        "from datetime import datetime\n",
        "from datetime import timedelta"
      ],
      "execution_count": 14,
      "outputs": []
    },
    {
      "cell_type": "markdown",
      "metadata": {
        "id": "EMulsWXsJJh6"
      },
      "source": [
        "**Задание 1**\n",
        "\n",
        "Печатные газеты использовали свой формат дат для каждого выпуска. Для каждой газеты из списка напишите формат указанной даты для перевода в объект datetime: \n",
        "\n",
        "*   The Moscow Times - Wednesday, October 2, 2002 \n",
        "*   The Guardian - Friday, 11.10.13 \n",
        "*   Daily News - Thursday, 18 August 1977\n",
        "\n",
        "\n",
        "\n"
      ]
    },
    {
      "cell_type": "code",
      "metadata": {
        "colab": {
          "base_uri": "https://localhost:8080/"
        },
        "id": "xvwbCKsgJFg0",
        "outputId": "729c260c-728f-4dcc-8a0e-951ed312d5a6"
      },
      "source": [
        "The_Moscow_Times = datetime.strptime('Wednesday, October 2, 2002', '%A, %B %w, %Y')\n",
        "The_Moscow_Times"
      ],
      "execution_count": 15,
      "outputs": [
        {
          "output_type": "execute_result",
          "data": {
            "text/plain": [
              "datetime.datetime(2002, 10, 1, 0, 0)"
            ]
          },
          "metadata": {},
          "execution_count": 15
        }
      ]
    },
    {
      "cell_type": "code",
      "metadata": {
        "colab": {
          "base_uri": "https://localhost:8080/"
        },
        "id": "Md8V0YfLJVEa",
        "outputId": "b7bd61f2-71a0-45d8-84ad-d39e1429137e"
      },
      "source": [
        "The_Guardian = datetime.strptime('Friday, 11.10.13', '%A, %d.%m.%y')\n",
        "The_Guardian"
      ],
      "execution_count": 16,
      "outputs": [
        {
          "output_type": "execute_result",
          "data": {
            "text/plain": [
              "datetime.datetime(2013, 10, 11, 0, 0)"
            ]
          },
          "metadata": {},
          "execution_count": 16
        }
      ]
    },
    {
      "cell_type": "code",
      "metadata": {
        "colab": {
          "base_uri": "https://localhost:8080/"
        },
        "id": "14qn09WiJW9s",
        "outputId": "3ba6097a-d16a-42f8-a0e2-b57f0b28a470"
      },
      "source": [
        "Daily_News = datetime.strptime('Thursday, 18 August 1977', '%A, %d %B %Y')\n",
        "Daily_News"
      ],
      "execution_count": 17,
      "outputs": [
        {
          "output_type": "execute_result",
          "data": {
            "text/plain": [
              "datetime.datetime(1977, 8, 18, 0, 0)"
            ]
          },
          "metadata": {},
          "execution_count": 17
        }
      ]
    },
    {
      "cell_type": "markdown",
      "metadata": {
        "id": "p0vONHhuKW1f"
      },
      "source": [
        "**Задание 2**\n",
        "\n",
        "Дан поток дат в формате YYYY-MM-DD, в которых встречаются некорректные значения:\n",
        "stream = [‘2018-04-02’, ‘2018-02-29’, ‘2018-19-02’]\n",
        "\n",
        "Напишите функцию, которая проверяет эти даты на корректность. Т. е. для каждой даты возвращает True (дата корректна) или False (некорректная дата)."
      ]
    },
    {
      "cell_type": "code",
      "metadata": {
        "id": "HLK7BAZ6Kdxo"
      },
      "source": [
        "stream = ['2018-19-02','2018-04-02', '2018-02-21']"
      ],
      "execution_count": 18,
      "outputs": []
    },
    {
      "cell_type": "code",
      "metadata": {
        "id": "9hGCAA0lKk6U"
      },
      "source": [
        "def validate(date):\n",
        "    try:\n",
        "        datetime.strptime(date, '%Y-%m-%d')\n",
        "        return True\n",
        "    except:\n",
        "        return False"
      ],
      "execution_count": 19,
      "outputs": []
    },
    {
      "cell_type": "code",
      "metadata": {
        "colab": {
          "base_uri": "https://localhost:8080/"
        },
        "id": "1I8CaMasKoK5",
        "outputId": "5b5d27c8-6986-48bb-c6a9-b95c19d2b847"
      },
      "source": [
        "def main(date):\n",
        "    validate_list =[]\n",
        "    for i in date:   \n",
        "            validate_list.append(validate(i))\n",
        "    return validate_list\n",
        "\n",
        "main(stream)"
      ],
      "execution_count": 20,
      "outputs": [
        {
          "output_type": "execute_result",
          "data": {
            "text/plain": [
              "[False, True, True]"
            ]
          },
          "metadata": {},
          "execution_count": 20
        }
      ]
    },
    {
      "cell_type": "markdown",
      "metadata": {
        "id": "6kFMZW8jSaxB"
      },
      "source": [
        "**Задание 3**\n",
        "\n",
        "Напишите функцию date_range, которая возвращает список дат за период от start_date до end_date. Даты должны вводиться в формате YYYY-MM-DD. В случае неверного формата или при start_date > end_date должен возвращаться пустой список."
      ]
    },
    {
      "cell_type": "code",
      "metadata": {
        "colab": {
          "base_uri": "https://localhost:8080/"
        },
        "id": "YaCS-cS5SoXt",
        "outputId": "3fa49d72-b16c-4782-e81d-669031a34bf9"
      },
      "source": [
        "def date_range(start_date, end_date):\n",
        "    \n",
        "    empty_list = []\n",
        "    \n",
        "    if validate(start_date) == True and validate(end_date) == True:  \n",
        "        \n",
        "        start_date_dt = datetime.strptime(start_date, '%Y-%m-%d')\n",
        "        end_date_dt = datetime.strptime(end_date, '%Y-%m-%d')\n",
        "        total_days = (end_date_dt - start_date_dt).days + 1 \n",
        "        day_list = []\n",
        "    \n",
        "        if start_date_dt < end_date_dt:\n",
        "            \n",
        "            for day_number in range(total_days):\n",
        "                current_date = (start_date_dt + timedelta(day_number))\n",
        "                day_list.append(current_date.strftime('%Y-%m-%d'))\n",
        "            return day_list\n",
        "        \n",
        "        else:\n",
        "            return day_list\n",
        "    else:\n",
        "        return empty_list\n",
        "        \n",
        "date_range('2021-10-28','2021-11-04')"
      ],
      "execution_count": 21,
      "outputs": [
        {
          "output_type": "execute_result",
          "data": {
            "text/plain": [
              "['2021-10-28',\n",
              " '2021-10-29',\n",
              " '2021-10-30',\n",
              " '2021-10-31',\n",
              " '2021-11-01',\n",
              " '2021-11-02',\n",
              " '2021-11-03',\n",
              " '2021-11-04']"
            ]
          },
          "metadata": {},
          "execution_count": 21
        }
      ]
    }
  ]
}