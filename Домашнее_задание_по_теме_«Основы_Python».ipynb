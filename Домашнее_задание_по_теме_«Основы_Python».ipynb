{
  "nbformat": 4,
  "nbformat_minor": 0,
  "metadata": {
    "colab": {
      "name": "Домашнее задание по теме «Основы Python».ipynb",
      "provenance": []
    },
    "kernelspec": {
      "name": "python3",
      "display_name": "Python 3"
    }
  },
  "cells": [
    {
      "cell_type": "code",
      "metadata": {
        "colab": {
          "base_uri": "https://localhost:8080/"
        },
        "id": "tlwGs1yCqo8D",
        "outputId": "12661d8c-cec0-4d92-ef1d-85eba0f74bf7"
      },
      "source": [
        "phrase_1 = 'На мировом рынке максимум можно будет продать штук пять компьютеров'\r\n",
        "phrase_2 = 'Нет причин, по которым люди захотели бы иметь персональный компьютер у себя дома'\r\n",
        "if len(phrase_1) > len(phrase_2):\r\n",
        "   print('Фраза 1 длиннее фразы 2')\r\n",
        "elif len(phrase_2) > len(phrase_1):\r\n",
        "    print('Фраза 2 длиннее фразы 1')  \r\n",
        "else:  \r\n",
        "   print('Фраза 1 равна фразе 2')\r\n"
      ],
      "execution_count": 38,
      "outputs": [
        {
          "output_type": "stream",
          "text": [
            "Фраза 2 длиннее фразы 1\n"
          ],
          "name": "stdout"
        }
      ]
    },
    {
      "cell_type": "code",
      "metadata": {
        "colab": {
          "base_uri": "https://localhost:8080/"
        },
        "id": "ZpYZdunZx2Hj",
        "outputId": "3625e6fc-bbed-4f90-f91e-d3bb589dfa1f"
      },
      "source": [
        "year = 2000\r\n",
        "if (year % 4 == 0) and (year % 100 != 0) or (year % 400 == 0):\r\n",
        "    print('Високосный год')\r\n",
        "else:\r\n",
        "    print('Обычный год')"
      ],
      "execution_count": 43,
      "outputs": [
        {
          "output_type": "stream",
          "text": [
            "Високосный год\n"
          ],
          "name": "stdout"
        }
      ]
    },
    {
      "cell_type": "code",
      "metadata": {
        "colab": {
          "base_uri": "https://localhost:8080/"
        },
        "id": "iHQF0E2syjHA",
        "outputId": "c9c4c81f-220f-4b4a-ac77-ff1bd1f6eb62"
      },
      "source": [
        "width = 10\r\n",
        "lenght = 205\r\n",
        "height = 5\r\n",
        "if lenght > 200:\r\n",
        "  print('Упаковка для лыж')\r\n",
        "elif width < 15 and lenght < 15 and height < 15:\r\n",
        "  print('Коробка №1')\r\n",
        "elif 15 < width < 50 or 15 < lenght < 50 or 15 < height < 50:\r\n",
        "  print('Коробка №2')\r\n",
        "else: \r\n",
        "  print('Стандартная коробка №3')"
      ],
      "execution_count": 58,
      "outputs": [
        {
          "output_type": "stream",
          "text": [
            "Упаковка для лыж\n"
          ],
          "name": "stdout"
        }
      ]
    }
  ]
}